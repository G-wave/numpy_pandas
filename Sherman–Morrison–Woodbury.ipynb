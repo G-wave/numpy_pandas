{
 "cells": [
  {
   "cell_type": "markdown",
   "metadata": {},
   "source": [
    "### To show Sherman–Morrison–Woodbury Formula\n",
    "### $A = I - ab^T;  A^{-1}= I + \\frac{ab^T}{1-a^Tb}$ "
   ]
  },
  {
   "cell_type": "code",
   "execution_count": 37,
   "metadata": {},
   "outputs": [],
   "source": [
    "import numpy as np\n",
    "m = 3\n",
    "a = np.random.rand(m,1)\n",
    "b = np.random.rand(m,1)"
   ]
  },
  {
   "cell_type": "code",
   "execution_count": 38,
   "metadata": {},
   "outputs": [],
   "source": [
    "A = np.identity(m) - np.matmul(a,b.T)\n",
    "Ai = np.identity(m) + np.matmul(a,b.T) / (1- np.matmul(a.T,b))"
   ]
  },
  {
   "cell_type": "code",
   "execution_count": 39,
   "metadata": {},
   "outputs": [
    {
     "data": {
      "text/plain": [
       "array([[ 1.00000000e+00, -1.71206807e-18,  4.86980580e-17],\n",
       "       [-9.31771399e-17,  1.00000000e+00,  1.97185780e-16],\n",
       "       [ 3.58986988e-17,  7.45159772e-17,  1.00000000e+00]])"
      ]
     },
     "execution_count": 39,
     "metadata": {},
     "output_type": "execute_result"
    }
   ],
   "source": [
    "np.matmul(A,Ai)"
   ]
  },
  {
   "cell_type": "markdown",
   "metadata": {},
   "source": [
    "### Proof algebrically: to show $AA^{-1}=I$\n",
    "\n",
    "$AA^{-1} = (I - ab^T)(I + \\frac{ab^T}{1-a^Tb}) = I - ab^T + \\frac{ab^T}{1-a^Tb}  - \\frac{ab^Tab^T}{1-a^Tb} = I - ab^T + \\frac{ab^T-a(b^Ta)b^T}{1-a^Tb} = I - ab^T + \\frac{ab^T-ab^T(b^Ta)}{1-a^Tb} = I - ab^T + \\frac{ab^T(1-b^Ta)}{1-a^Tb} = I - ab^T + \\frac{ab^T(1-a^Tb)}{1-a^Tb} = I - ab^T + a^Tb = I$"
   ]
  },
  {
   "cell_type": "code",
   "execution_count": null,
   "metadata": {},
   "outputs": [],
   "source": []
  }
 ],
 "metadata": {
  "kernelspec": {
   "display_name": "Python 3",
   "language": "python",
   "name": "python3"
  },
  "language_info": {
   "codemirror_mode": {
    "name": "ipython",
    "version": 3
   },
   "file_extension": ".py",
   "mimetype": "text/x-python",
   "name": "python",
   "nbconvert_exporter": "python",
   "pygments_lexer": "ipython3",
   "version": "3.7.1"
  }
 },
 "nbformat": 4,
 "nbformat_minor": 2
}
